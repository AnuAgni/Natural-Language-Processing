{
  "nbformat": 4,
  "nbformat_minor": 0,
  "metadata": {
    "colab": {
      "name": "word2vec.ipynb",
      "provenance": [],
      "collapsed_sections": [
        "280sV5kLkuDo",
        "0-mq_KClke8X",
        "K6FznzxHrwIl",
        "R3hXqWfKvL57",
        "CSonh0MCyISt"
      ],
      "authorship_tag": "ABX9TyPLfehgNvqx/rPZy8Jj5nK6",
      "include_colab_link": true
    },
    "kernelspec": {
      "name": "python3",
      "display_name": "Python 3"
    },
    "language_info": {
      "name": "python"
    }
  },
  "cells": [
    {
      "cell_type": "markdown",
      "metadata": {
        "id": "view-in-github",
        "colab_type": "text"
      },
      "source": [
        "<a href=\"https://colab.research.google.com/github/AnuAgni/Natural-Language-Processing/blob/main/word2vec.ipynb\" target=\"_parent\"><img src=\"https://colab.research.google.com/assets/colab-badge.svg\" alt=\"Open In Colab\"/></a>"
      ]
    },
    {
      "cell_type": "markdown",
      "source": [
        "# word2vec - skip gram \n",
        "using tensor flow : https://www.tensorflow.org/tutorials/text/word2vec"
      ],
      "metadata": {
        "id": "186JHKU1Qo2R"
      }
    },
    {
      "cell_type": "markdown",
      "source": [
        "##Setup"
      ],
      "metadata": {
        "id": "280sV5kLkuDo"
      }
    },
    {
      "cell_type": "code",
      "execution_count": null,
      "metadata": {
        "id": "wwODaZTxhd9h"
      },
      "outputs": [],
      "source": [
        "import io\n",
        "import re\n",
        "import string\n",
        "import tqdm\n",
        "import numpy as np\n",
        "import tensorflow as tf\n",
        "from tensorflow.keras import layers"
      ]
    },
    {
      "cell_type": "code",
      "source": [
        "%load_ext tensorboard"
      ],
      "metadata": {
        "id": "CKvu5kqri1mz"
      },
      "execution_count": null,
      "outputs": []
    },
    {
      "cell_type": "code",
      "source": [
        "SEED = 42\n",
        "AUTOTUNE = tf.data.AUTOTUNE"
      ],
      "metadata": {
        "id": "te3ZTsT8i_ro"
      },
      "execution_count": null,
      "outputs": []
    },
    {
      "cell_type": "markdown",
      "source": [
        "##Vectorizing a sentence"
      ],
      "metadata": {
        "id": "0-mq_KClke8X"
      }
    },
    {
      "cell_type": "code",
      "source": [
        "#tokenize the sentence\n",
        "sentence = \"the wide road shimmered in the hot sun\"\n",
        "tokens =list(sentence.lower().split())\n",
        "print(len(tokens))"
      ],
      "metadata": {
        "colab": {
          "base_uri": "https://localhost:8080/"
        },
        "id": "YJ-2KteDjonu",
        "outputId": "5974083f-b8e3-44da-96e4-58fb5af35da8"
      },
      "execution_count": null,
      "outputs": [
        {
          "output_type": "stream",
          "name": "stdout",
          "text": [
            "8\n"
          ]
        }
      ]
    },
    {
      "cell_type": "code",
      "source": [
        "#Create a vocabulary to save mappings from tokens to integer indices\n",
        "vocab,index = {} , 1           #indexing starts from one    #is it a vocab a list data type??? Dictionary data type - curly braces is for dictionary\n",
        "vocab['<pad>'] = 0             #adding a padding token    //what is it used for?? to replace an index not mentioned? or the distance between consecutive index? \n",
        "for token in tokens:           #starting a loop : i=1 to i=8 (maybe to match natural numebrs loop has started with 1 instead of zero)\n",
        "  if token not in vocab:       #checking whether word already in list or not, if not then\n",
        "    vocab[token]=index         #adding the word with required index\n",
        "    index+=1                   #i++\n",
        "vocab_size = len(vocab)        #length of vocab i.e. no. of elements calculated and stored\n",
        "print(vocab)                   #the elements the printed"
      ],
      "metadata": {
        "colab": {
          "base_uri": "https://localhost:8080/"
        },
        "id": "LbGOOVjFkIP7",
        "outputId": "5f0972c2-b61d-4710-9e52-e4d14d9f4af4"
      },
      "execution_count": null,
      "outputs": [
        {
          "output_type": "stream",
          "name": "stdout",
          "text": [
            "{'<pad>': 0, 'the': 1, 'wide': 2, 'road': 3, 'shimmered': 4, 'in': 5, 'hot': 6, 'sun': 7}\n"
          ]
        }
      ]
    },
    {
      "cell_type": "code",
      "source": [
        "#Create an inverse vocabulary to save mappings from integer indices to tokens?\n",
        "inverse_vocab={index: token for token, index in vocab.items()}      #loop starts from 0 to 8,element stored at that index in vocab is stored in inverse_vocab wrt index\n",
        "print(inverse_vocab)"
      ],
      "metadata": {
        "colab": {
          "base_uri": "https://localhost:8080/"
        },
        "id": "TSWS83MmnSl2",
        "outputId": "b54bc18c-3249-4d7d-dc93-c702d5d76e92"
      },
      "execution_count": null,
      "outputs": [
        {
          "output_type": "stream",
          "name": "stdout",
          "text": [
            "{0: '<pad>', 1: 'the', 2: 'wide', 3: 'road', 4: 'shimmered', 5: 'in', 6: 'hot', 7: 'sun'}\n"
          ]
        }
      ]
    },
    {
      "cell_type": "code",
      "source": [
        "#vectorizing sentence\n",
        "example_sequence=[vocab[word] for word in tokens]  #how does this work?? why instead of element index is being printed?\n",
        "print(example_sequence)"
      ],
      "metadata": {
        "colab": {
          "base_uri": "https://localhost:8080/"
        },
        "id": "bJRBdqiXpM3i",
        "outputId": "076715e3-5615-4ca7-8164-256ce59758de"
      },
      "execution_count": null,
      "outputs": [
        {
          "output_type": "stream",
          "name": "stdout",
          "text": [
            "[1, 2, 3, 4, 5, 1, 6, 7]\n"
          ]
        }
      ]
    },
    {
      "cell_type": "markdown",
      "source": [
        "## Generate skip-grams from one sentence"
      ],
      "metadata": {
        "id": "K6FznzxHrwIl"
      }
    },
    {
      "cell_type": "code",
      "source": [
        "window_size = 2                     #words to be taken before and after the center word\n",
        "positive_skip_grams, _ = tf.keras.preprocessing.sequence.skipgrams(\n",
        "      example_sequence,             #generated above\n",
        "      vocabulary_size=vocab_size,   #8 in this case\n",
        "      window_size=window_size,\n",
        "      negative_samples=0)           #negative_samples is set to 0 here, as batching negative samples generated by this function requires a bit of code\n",
        "print(len(positive_skip_grams))"
      ],
      "metadata": {
        "colab": {
          "base_uri": "https://localhost:8080/"
        },
        "id": "DDUomU8Pry9L",
        "outputId": "4fbd7839-bcf1-4330-de02-52d55096f594"
      },
      "execution_count": null,
      "outputs": [
        {
          "output_type": "stream",
          "name": "stdout",
          "text": [
            "26\n"
          ]
        }
      ]
    },
    {
      "cell_type": "code",
      "source": [
        "#Print a few positive skip-grams:\n",
        "for target, context in positive_skip_grams[:5]: #?\n",
        "  print(f\"({target}, {context}): ({inverse_vocab[target]}, {inverse_vocab[context]})\")"
      ],
      "metadata": {
        "colab": {
          "base_uri": "https://localhost:8080/"
        },
        "id": "HFPP_ZpGs5UB",
        "outputId": "4c6cf14c-feeb-4292-f88d-66451a334704"
      },
      "execution_count": null,
      "outputs": [
        {
          "output_type": "stream",
          "name": "stdout",
          "text": [
            "(3, 4): (road, shimmered)\n",
            "(4, 5): (shimmered, in)\n",
            "(4, 3): (shimmered, road)\n",
            "(2, 1): (wide, the)\n",
            "(1, 6): (the, hot)\n"
          ]
        }
      ]
    },
    {
      "cell_type": "markdown",
      "source": [
        "## Negative sampling for one skip-gram"
      ],
      "metadata": {
        "id": "R3hXqWfKvL57"
      }
    },
    {
      "cell_type": "markdown",
      "source": [
        "The skipgrams function returns all positive skip-gram pairs by sliding over a given window span. To produce additional skip-gram pairs that would serve as negative samples for training, you need to sample random words from the vocabulary. Use the tf.random.log_uniform_candidate_sampler function to sample num_ns number of negative samples for a given target word in a window. You can call the function on one skip-grams's target word and pass the context word as true class to exclude it from being sampled."
      ],
      "metadata": {
        "id": "wbH_RFJkvnuO"
      }
    },
    {
      "cell_type": "markdown",
      "source": [
        "num_ns (the number of negative samples per a positive context word) in the [5, 20] range is shown to work best for smaller datasets, while num_ns in the [2, 5] range suffices for larger datasets."
      ],
      "metadata": {
        "id": "6qEWHjkhwCw-"
      }
    },
    {
      "cell_type": "code",
      "source": [
        "target_word, context_word = positive_skip_grams[0]                          #target and context word for one positive skip gram \n",
        "num_ns=4                                                                    #number if negative samples per context word\n",
        "context_class=tf.reshape(tf.constant(context_word,dtype=\"int64\"),(1,1))\n",
        "negative_sampling_candidates,_,_=tf.random.log_uniform_candidate_sampler(\n",
        "    true_classes=context_class,                                             #class that should be sampled as positive\n",
        "    num_true=1,                                                             #each positive skip gram has 1 positive context class\n",
        "    num_sampled=num_ns,                                                     #number of negative context word to sample\n",
        "    unique=True,                                                            #all negative samples should be unique\n",
        "    range_max=vocab_size,                                                   #pick index of samples from 0 to vocab size\n",
        "    seed=SEED,                                                              #seed for reproducibility\n",
        "    name=\"negative_sampling\"                                                #name for this operation\n",
        ")\n",
        "print(negative_sampling_candidates)\n",
        "print([inverse_vocab[index.numpy()] for index in negative_sampling_candidates])"
      ],
      "metadata": {
        "colab": {
          "base_uri": "https://localhost:8080/"
        },
        "id": "xHP30JTsvhys",
        "outputId": "bfcce5d2-75a1-4789-a15e-4426706d90d1"
      },
      "execution_count": null,
      "outputs": [
        {
          "output_type": "stream",
          "name": "stdout",
          "text": [
            "tf.Tensor([2 1 4 3], shape=(4,), dtype=int64)\n",
            "['wide', 'the', 'shimmered', 'road']\n"
          ]
        }
      ]
    },
    {
      "cell_type": "markdown",
      "source": [
        "## Construct one training example"
      ],
      "metadata": {
        "id": "CSonh0MCyISt"
      }
    },
    {
      "cell_type": "markdown",
      "source": [
        "For a given positive (target_word, context_word) skip-gram, you now also have num_ns negative sampled context words that do not appear in the window size neighborhood of target_word. Batch the 1 positive context_word and num_ns negative context words into one tensor. This produces a set of positive skip-grams (labeled as 1) and negative samples (labeled as 0) for each target word."
      ],
      "metadata": {
        "id": "s0MBf_Jg9xC1"
      }
    },
    {
      "cell_type": "code",
      "source": [
        "# Add a dimension so you can use concatenation (in the next step).\n",
        "negative_sampling_candidates = tf.expand_dims(negative_sampling_candidates, 1)\n",
        "\n",
        "# Concatenate a positive context word with negative sampled words.\n",
        "context = tf.concat([context_class, negative_sampling_candidates], 0)\n",
        "\n",
        "# Label the first context word as `1` (positive) followed by `num_ns` `0`s (negative).\n",
        "label = tf.constant([1] + [0]*num_ns, dtype=\"int64\")\n",
        "\n",
        "# Reshape the target to shape `(1,)` and context and label to `(num_ns+1,)`.\n",
        "target = tf.squeeze(target_word)\n",
        "context = tf.squeeze(context)\n",
        "label = tf.squeeze(label)"
      ],
      "metadata": {
        "id": "g-I_XLzFyMdB"
      },
      "execution_count": null,
      "outputs": []
    },
    {
      "cell_type": "code",
      "source": [
        "print(f\"target_index    : {target}\")\n",
        "print(f\"target_word     : {inverse_vocab[target_word]}\")\n",
        "print(f\"context_indices : {context}\")\n",
        "print(f\"context_words   : {[inverse_vocab[c.numpy()] for c in context]}\")\n",
        "print(f\"label           : {label}\")"
      ],
      "metadata": {
        "colab": {
          "base_uri": "https://localhost:8080/"
        },
        "id": "DbevOmMUWIl8",
        "outputId": "61799249-aac6-4ca1-8678-876f8f3a36af"
      },
      "execution_count": null,
      "outputs": [
        {
          "output_type": "stream",
          "name": "stdout",
          "text": [
            "target_index    : 3\n",
            "target_word     : road\n",
            "context_indices : [4 2 1 4 3]\n",
            "context_words   : ['shimmered', 'wide', 'the', 'shimmered', 'road']\n",
            "label           : [1 0 0 0 0]\n"
          ]
        }
      ]
    },
    {
      "cell_type": "markdown",
      "source": [
        "A tuple of (target, context, label) tensors constitutes one training example for training your skip-gram negative sampling word2vec model. Notice that the target is of shape (1,) while the context and label are of shape (1+num_ns,)"
      ],
      "metadata": {
        "id": "4gBxOFIEWrxG"
      }
    },
    {
      "cell_type": "code",
      "source": [
        "print(\"target  :\", target)\n",
        "print(\"context :\", context)\n",
        "print(\"label   :\", label)"
      ],
      "metadata": {
        "id": "hHyerBW8WtYU",
        "outputId": "987d79a9-4f1c-4980-ccaf-840f3d090f39",
        "colab": {
          "base_uri": "https://localhost:8080/"
        }
      },
      "execution_count": null,
      "outputs": [
        {
          "output_type": "stream",
          "name": "stdout",
          "text": [
            "target  : tf.Tensor(3, shape=(), dtype=int32)\n",
            "context : tf.Tensor([4 2 1 4 3], shape=(5,), dtype=int64)\n",
            "label   : tf.Tensor([1 0 0 0 0], shape=(5,), dtype=int64)\n"
          ]
        }
      ]
    },
    {
      "cell_type": "markdown",
      "source": [
        "##Skip gram sampling table"
      ],
      "metadata": {
        "id": "ttkPSeiT7Teu"
      }
    },
    {
      "cell_type": "code",
      "source": [
        "sampling_table = tf.keras.preprocessing.sequence.make_sampling_table(size=10)\n",
        "print(sampling_table)"
      ],
      "metadata": {
        "id": "GuINbAu27Y1S",
        "colab": {
          "base_uri": "https://localhost:8080/"
        },
        "outputId": "52e5a714-b818-4760-b35c-2d00c86e0e26"
      },
      "execution_count": null,
      "outputs": [
        {
          "output_type": "stream",
          "name": "stdout",
          "text": [
            "[0.00315225 0.00315225 0.00547597 0.00741556 0.00912817 0.01068435\n",
            " 0.01212381 0.01347162 0.01474487 0.0159558 ]\n"
          ]
        }
      ]
    },
    {
      "cell_type": "markdown",
      "source": [
        "## Generate training data"
      ],
      "metadata": {
        "id": "-jH92zoD7bKf"
      }
    },
    {
      "cell_type": "code",
      "source": [
        "# Generates skip-gram pairs with negative sampling for a list of sequences\n",
        "# (int-encoded sentences) based on window size, number of negative samples\n",
        "# and vocabulary size.\n",
        "def generate_training_data(sequences, window_size, num_ns, vocab_size, seed):\n",
        "  # Elements of each training example are appended to these lists.\n",
        "  targets, contexts, labels = [], [], []\n",
        "\n",
        "  # Build the sampling table for `vocab_size` tokens.\n",
        "  sampling_table = tf.keras.preprocessing.sequence.make_sampling_table(vocab_size)\n",
        "\n",
        "  # Iterate over all sequences (sentences) in the dataset.\n",
        "  for sequence in tqdm.tqdm(sequences):\n",
        "\n",
        "    # Generate positive skip-gram pairs for a sequence (sentence).\n",
        "    positive_skip_grams, _ = tf.keras.preprocessing.sequence.skipgrams(\n",
        "          sequence,\n",
        "          vocabulary_size=vocab_size,\n",
        "          sampling_table=sampling_table,\n",
        "          window_size=window_size,\n",
        "          negative_samples=0)\n",
        "\n",
        "    # Iterate over each positive skip-gram pair to produce training examples\n",
        "    # with a positive context word and negative samples.\n",
        "    for target_word, context_word in positive_skip_grams:\n",
        "      context_class = tf.expand_dims(\n",
        "          tf.constant([context_word], dtype=\"int64\"), 1)\n",
        "      negative_sampling_candidates, _, _ = tf.random.log_uniform_candidate_sampler(\n",
        "          true_classes=context_class,\n",
        "          num_true=1,\n",
        "          num_sampled=num_ns,\n",
        "          unique=True,\n",
        "          range_max=vocab_size,\n",
        "          seed=SEED,\n",
        "          name=\"negative_sampling\")\n",
        "\n",
        "      # Build context and label vectors (for one target word)\n",
        "      negative_sampling_candidates = tf.expand_dims(\n",
        "          negative_sampling_candidates, 1)\n",
        "\n",
        "      context = tf.concat([context_class, negative_sampling_candidates], 0)\n",
        "      label = tf.constant([1] + [0]*num_ns, dtype=\"int64\")\n",
        "\n",
        "      # Append each element from the training example to global lists.\n",
        "      targets.append(target_word)\n",
        "      contexts.append(context)\n",
        "      labels.append(label)\n",
        "\n",
        "  return targets, contexts, labels"
      ],
      "metadata": {
        "id": "_9h51RG17rys"
      },
      "execution_count": null,
      "outputs": []
    }
  ]
}