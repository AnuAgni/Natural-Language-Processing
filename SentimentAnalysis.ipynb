{
  "nbformat": 4,
  "nbformat_minor": 0,
  "metadata": {
    "colab": {
      "name": "SentimentAnalysis",
      "provenance": [],
      "collapsed_sections": [],
      "authorship_tag": "ABX9TyOdMJQnfAUkpqFUmw3TF3+k",
      "include_colab_link": true
    },
    "kernelspec": {
      "name": "python3",
      "display_name": "Python 3"
    },
    "language_info": {
      "name": "python"
    }
  },
  "cells": [
    {
      "cell_type": "markdown",
      "metadata": {
        "id": "view-in-github",
        "colab_type": "text"
      },
      "source": [
        "<a href=\"https://colab.research.google.com/github/AnuAgni/Natural-Language-Processing/blob/main/SentimentAnalysis.ipynb\" target=\"_parent\"><img src=\"https://colab.research.google.com/assets/colab-badge.svg\" alt=\"Open In Colab\"/></a>"
      ]
    },
    {
      "cell_type": "markdown",
      "source": [
        "# TWEET SENTIMENT ANALYSIS \n",
        "(TAKEN FROM: https://www.nbshare.io/notebook/754493525/Tweet-Sentiment-Analysis-Using-LSTM-With-PyTorch/"
      ],
      "metadata": {
        "id": "aNsF_JJT-LjC"
      }
    },
    {
      "cell_type": "markdown",
      "source": [
        "##Import and Data loading"
      ],
      "metadata": {
        "id": "IAqgNYda-3IM"
      }
    },
    {
      "cell_type": "code",
      "source": [
        "import torch                                              # Open source library and script language\n",
        "import torch.nn as nn                                     # Provides all building blocks to build neural network\n",
        "import torch.nn.functional as F                           # Contains varrious functions applied on input layer/signal\n",
        "from torch.utils.data import DataLoader, TensorDataset    \n",
        "\n",
        "import numpy as np                                        # Work with mathematical data\n",
        "import pandas as pd                                       # Work with tabular data\n",
        "\n",
        "import re                                                 # Provides regular expression matching operations\n",
        "# Regular expression also known as regex(p) is a method used for pattern/string matching\n",
        "\n",
        "from sklearn.model_selection import train_test_split      # Model_selection is a method for setting a blueprint to analyze data and then using it to measure new data. \n",
        "from sklearn.metrics import accuracy_score                #how accurate the model is\n",
        "\n",
        "import nltk                                               # Work with human language data for applying in statistcial nlp\n",
        "from nltk.tokenize import word_tokenize                   # Breaking text into small chunks , slipt workd into tokens\n",
        "\n",
        "import matplotlib.pyplot as plt                            # Use for plotting i.e data visualisation"
      ],
      "metadata": {
        "id": "mSQkJ3yC-yh4"
      },
      "execution_count": 1,
      "outputs": []
    },
    {
      "cell_type": "code",
      "source": [
        "nltk.download('punkt')                                     # Tokenize sentence"
      ],
      "metadata": {
        "colab": {
          "base_uri": "https://localhost:8080/"
        },
        "id": "QsELw2pqHII9",
        "outputId": "acd1b49d-856b-404d-fb8d-431b895c22e9"
      },
      "execution_count": 2,
      "outputs": [
        {
          "output_type": "stream",
          "name": "stdout",
          "text": [
            "[nltk_data] Downloading package punkt to /root/nltk_data...\n",
            "[nltk_data]   Unzipping tokenizers/punkt.zip.\n"
          ]
        },
        {
          "output_type": "execute_result",
          "data": {
            "text/plain": [
              "True"
            ]
          },
          "metadata": {},
          "execution_count": 2
        }
      ]
    },
    {
      "cell_type": "code",
      "source": [
        "train_df=pd.read_csv('https://raw.githubusercontent.com/ajayshewale/Sentiment-Analysis-of-Text-Data-Tweets-/master/data/train.csv')   # Reading raw train data from github"
      ],
      "metadata": {
        "id": "zTcDClrUHv8E"
      },
      "execution_count": 3,
      "outputs": []
    },
    {
      "cell_type": "code",
      "source": [
        "test_df=pd.read_csv('https://raw.githubusercontent.com/ajayshewale/Sentiment-Analysis-of-Text-Data-Tweets-/master/data/test.csv')     # Reading raw test data from github"
      ],
      "metadata": {
        "id": "A69dzM6NXGzx"
      },
      "execution_count": 4,
      "outputs": []
    },
    {
      "cell_type": "markdown",
      "source": [
        "##Data preprocessing"
      ],
      "metadata": {
        "id": "cJ24nR6NXzcb"
      }
    },
    {
      "cell_type": "code",
      "source": [
        "train_df    # Checking train data manually by printing on screen"
      ],
      "metadata": {
        "colab": {
          "base_uri": "https://localhost:8080/",
          "height": 424
        },
        "id": "zvm0mVUWXvBX",
        "outputId": "62093ccf-2d34-44dd-a20f-9e9695d07eec"
      },
      "execution_count": 6,
      "outputs": [
        {
          "data": {
            "text/html": [
              "\n",
              "  <div id=\"df-2aa47e72-f395-475b-98d8-0d8f1bd07966\">\n",
              "    <div class=\"colab-df-container\">\n",
              "      <div>\n",
              "<style scoped>\n",
              "    .dataframe tbody tr th:only-of-type {\n",
              "        vertical-align: middle;\n",
              "    }\n",
              "\n",
              "    .dataframe tbody tr th {\n",
              "        vertical-align: top;\n",
              "    }\n",
              "\n",
              "    .dataframe thead th {\n",
              "        text-align: right;\n",
              "    }\n",
              "</style>\n",
              "<table border=\"1\" class=\"dataframe\">\n",
              "  <thead>\n",
              "    <tr style=\"text-align: right;\">\n",
              "      <th></th>\n",
              "      <th>Id</th>\n",
              "      <th>Category</th>\n",
              "      <th>Tweet</th>\n",
              "    </tr>\n",
              "  </thead>\n",
              "  <tbody>\n",
              "    <tr>\n",
              "      <th>0</th>\n",
              "      <td>635769805279248384</td>\n",
              "      <td>negative</td>\n",
              "      <td>Not Available</td>\n",
              "    </tr>\n",
              "    <tr>\n",
              "      <th>1</th>\n",
              "      <td>635930169241374720</td>\n",
              "      <td>neutral</td>\n",
              "      <td>IOS 9 App Transport Security. Mm need to check...</td>\n",
              "    </tr>\n",
              "    <tr>\n",
              "      <th>2</th>\n",
              "      <td>635950258682523648</td>\n",
              "      <td>neutral</td>\n",
              "      <td>Mar if you have an iOS device, you should down...</td>\n",
              "    </tr>\n",
              "    <tr>\n",
              "      <th>3</th>\n",
              "      <td>636030803433009153</td>\n",
              "      <td>negative</td>\n",
              "      <td>@jimmie_vanagon my phone does not run on lates...</td>\n",
              "    </tr>\n",
              "    <tr>\n",
              "      <th>4</th>\n",
              "      <td>636100906224848896</td>\n",
              "      <td>positive</td>\n",
              "      <td>Not sure how to start your publication on iOS?...</td>\n",
              "    </tr>\n",
              "    <tr>\n",
              "      <th>...</th>\n",
              "      <td>...</td>\n",
              "      <td>...</td>\n",
              "      <td>...</td>\n",
              "    </tr>\n",
              "    <tr>\n",
              "      <th>5965</th>\n",
              "      <td>639016598477651968</td>\n",
              "      <td>neutral</td>\n",
              "      <td>@YouAreMyArsenal Wouldn't surprise me if we en...</td>\n",
              "    </tr>\n",
              "    <tr>\n",
              "      <th>5966</th>\n",
              "      <td>640276909633486849</td>\n",
              "      <td>neutral</td>\n",
              "      <td>Rib injury for Zlatan against Russia is a big ...</td>\n",
              "    </tr>\n",
              "    <tr>\n",
              "      <th>5967</th>\n",
              "      <td>640296841725235200</td>\n",
              "      <td>neutral</td>\n",
              "      <td>Noooooo! I was hoping to see Zlatan being Zlat...</td>\n",
              "    </tr>\n",
              "    <tr>\n",
              "      <th>5968</th>\n",
              "      <td>641017384908779520</td>\n",
              "      <td>neutral</td>\n",
              "      <td>Not Available</td>\n",
              "    </tr>\n",
              "    <tr>\n",
              "      <th>5969</th>\n",
              "      <td>641395811474128896</td>\n",
              "      <td>neutral</td>\n",
              "      <td>Not Available</td>\n",
              "    </tr>\n",
              "  </tbody>\n",
              "</table>\n",
              "<p>5970 rows × 3 columns</p>\n",
              "</div>\n",
              "      <button class=\"colab-df-convert\" onclick=\"convertToInteractive('df-2aa47e72-f395-475b-98d8-0d8f1bd07966')\"\n",
              "              title=\"Convert this dataframe to an interactive table.\"\n",
              "              style=\"display:none;\">\n",
              "        \n",
              "  <svg xmlns=\"http://www.w3.org/2000/svg\" height=\"24px\"viewBox=\"0 0 24 24\"\n",
              "       width=\"24px\">\n",
              "    <path d=\"M0 0h24v24H0V0z\" fill=\"none\"/>\n",
              "    <path d=\"M18.56 5.44l.94 2.06.94-2.06 2.06-.94-2.06-.94-.94-2.06-.94 2.06-2.06.94zm-11 1L8.5 8.5l.94-2.06 2.06-.94-2.06-.94L8.5 2.5l-.94 2.06-2.06.94zm10 10l.94 2.06.94-2.06 2.06-.94-2.06-.94-.94-2.06-.94 2.06-2.06.94z\"/><path d=\"M17.41 7.96l-1.37-1.37c-.4-.4-.92-.59-1.43-.59-.52 0-1.04.2-1.43.59L10.3 9.45l-7.72 7.72c-.78.78-.78 2.05 0 2.83L4 21.41c.39.39.9.59 1.41.59.51 0 1.02-.2 1.41-.59l7.78-7.78 2.81-2.81c.8-.78.8-2.07 0-2.86zM5.41 20L4 18.59l7.72-7.72 1.47 1.35L5.41 20z\"/>\n",
              "  </svg>\n",
              "      </button>\n",
              "      \n",
              "  <style>\n",
              "    .colab-df-container {\n",
              "      display:flex;\n",
              "      flex-wrap:wrap;\n",
              "      gap: 12px;\n",
              "    }\n",
              "\n",
              "    .colab-df-convert {\n",
              "      background-color: #E8F0FE;\n",
              "      border: none;\n",
              "      border-radius: 50%;\n",
              "      cursor: pointer;\n",
              "      display: none;\n",
              "      fill: #1967D2;\n",
              "      height: 32px;\n",
              "      padding: 0 0 0 0;\n",
              "      width: 32px;\n",
              "    }\n",
              "\n",
              "    .colab-df-convert:hover {\n",
              "      background-color: #E2EBFA;\n",
              "      box-shadow: 0px 1px 2px rgba(60, 64, 67, 0.3), 0px 1px 3px 1px rgba(60, 64, 67, 0.15);\n",
              "      fill: #174EA6;\n",
              "    }\n",
              "\n",
              "    [theme=dark] .colab-df-convert {\n",
              "      background-color: #3B4455;\n",
              "      fill: #D2E3FC;\n",
              "    }\n",
              "\n",
              "    [theme=dark] .colab-df-convert:hover {\n",
              "      background-color: #434B5C;\n",
              "      box-shadow: 0px 1px 3px 1px rgba(0, 0, 0, 0.15);\n",
              "      filter: drop-shadow(0px 1px 2px rgba(0, 0, 0, 0.3));\n",
              "      fill: #FFFFFF;\n",
              "    }\n",
              "  </style>\n",
              "\n",
              "      <script>\n",
              "        const buttonEl =\n",
              "          document.querySelector('#df-2aa47e72-f395-475b-98d8-0d8f1bd07966 button.colab-df-convert');\n",
              "        buttonEl.style.display =\n",
              "          google.colab.kernel.accessAllowed ? 'block' : 'none';\n",
              "\n",
              "        async function convertToInteractive(key) {\n",
              "          const element = document.querySelector('#df-2aa47e72-f395-475b-98d8-0d8f1bd07966');\n",
              "          const dataTable =\n",
              "            await google.colab.kernel.invokeFunction('convertToInteractive',\n",
              "                                                     [key], {});\n",
              "          if (!dataTable) return;\n",
              "\n",
              "          const docLinkHtml = 'Like what you see? Visit the ' +\n",
              "            '<a target=\"_blank\" href=https://colab.research.google.com/notebooks/data_table.ipynb>data table notebook</a>'\n",
              "            + ' to learn more about interactive tables.';\n",
              "          element.innerHTML = '';\n",
              "          dataTable['output_type'] = 'display_data';\n",
              "          await google.colab.output.renderOutput(dataTable, element);\n",
              "          const docLink = document.createElement('div');\n",
              "          docLink.innerHTML = docLinkHtml;\n",
              "          element.appendChild(docLink);\n",
              "        }\n",
              "      </script>\n",
              "    </div>\n",
              "  </div>\n",
              "  "
            ],
            "text/plain": [
              "                      Id  Category  \\\n",
              "0     635769805279248384  negative   \n",
              "1     635930169241374720   neutral   \n",
              "2     635950258682523648   neutral   \n",
              "3     636030803433009153  negative   \n",
              "4     636100906224848896  positive   \n",
              "...                  ...       ...   \n",
              "5965  639016598477651968   neutral   \n",
              "5966  640276909633486849   neutral   \n",
              "5967  640296841725235200   neutral   \n",
              "5968  641017384908779520   neutral   \n",
              "5969  641395811474128896   neutral   \n",
              "\n",
              "                                                  Tweet  \n",
              "0                                         Not Available  \n",
              "1     IOS 9 App Transport Security. Mm need to check...  \n",
              "2     Mar if you have an iOS device, you should down...  \n",
              "3     @jimmie_vanagon my phone does not run on lates...  \n",
              "4     Not sure how to start your publication on iOS?...  \n",
              "...                                                 ...  \n",
              "5965  @YouAreMyArsenal Wouldn't surprise me if we en...  \n",
              "5966  Rib injury for Zlatan against Russia is a big ...  \n",
              "5967  Noooooo! I was hoping to see Zlatan being Zlat...  \n",
              "5968                                      Not Available  \n",
              "5969                                      Not Available  \n",
              "\n",
              "[5970 rows x 3 columns]"
            ]
          },
          "execution_count": null,
          "metadata": {},
          "output_type": "execute_result"
        }
      ]
    },
    {
      "cell_type": "code",
      "source": [
        "# Clean code from inconsistent, noisy and useless information\n",
        "train_df=train_df.drop(columns=[\"Id\"])                      # Id is useless for training model\n",
        "train_df=train_df.dropna()                                  # Droping null value\n",
        "train_df=train_df[train_df['Tweet']!=\"Not Available\"]       # Not available will not help in training model\n",
        "train_df                                                    # Printing training data"
      ],
      "metadata": {
        "id": "oT-GqRL3Ylj_",
        "colab": {
          "base_uri": "https://localhost:8080/",
          "height": 424
        },
        "outputId": "72529ef8-05a3-4b68-d200-327ba5d173b6"
      },
      "execution_count": 7,
      "outputs": [
        {
          "output_type": "execute_result",
          "data": {
            "text/plain": [
              "      Category                                              Tweet\n",
              "1      neutral  IOS 9 App Transport Security. Mm need to check...\n",
              "2      neutral  Mar if you have an iOS device, you should down...\n",
              "3     negative  @jimmie_vanagon my phone does not run on lates...\n",
              "4     positive  Not sure how to start your publication on iOS?...\n",
              "5      neutral  Two Dollar Tuesday is here with Forklift 2, Qu...\n",
              "...        ...                                                ...\n",
              "5963  positive  Ok ed let's do this, Zlatan, greizmann and Lap...\n",
              "5964   neutral  Goal level: Zlatan  90k by Friday? = Posting e...\n",
              "5965   neutral  @YouAreMyArsenal Wouldn't surprise me if we en...\n",
              "5966   neutral  Rib injury for Zlatan against Russia is a big ...\n",
              "5967   neutral  Noooooo! I was hoping to see Zlatan being Zlat...\n",
              "\n",
              "[5422 rows x 2 columns]"
            ],
            "text/html": [
              "\n",
              "  <div id=\"df-d74176f9-7e4f-4b82-8db9-895253436535\">\n",
              "    <div class=\"colab-df-container\">\n",
              "      <div>\n",
              "<style scoped>\n",
              "    .dataframe tbody tr th:only-of-type {\n",
              "        vertical-align: middle;\n",
              "    }\n",
              "\n",
              "    .dataframe tbody tr th {\n",
              "        vertical-align: top;\n",
              "    }\n",
              "\n",
              "    .dataframe thead th {\n",
              "        text-align: right;\n",
              "    }\n",
              "</style>\n",
              "<table border=\"1\" class=\"dataframe\">\n",
              "  <thead>\n",
              "    <tr style=\"text-align: right;\">\n",
              "      <th></th>\n",
              "      <th>Category</th>\n",
              "      <th>Tweet</th>\n",
              "    </tr>\n",
              "  </thead>\n",
              "  <tbody>\n",
              "    <tr>\n",
              "      <th>1</th>\n",
              "      <td>neutral</td>\n",
              "      <td>IOS 9 App Transport Security. Mm need to check...</td>\n",
              "    </tr>\n",
              "    <tr>\n",
              "      <th>2</th>\n",
              "      <td>neutral</td>\n",
              "      <td>Mar if you have an iOS device, you should down...</td>\n",
              "    </tr>\n",
              "    <tr>\n",
              "      <th>3</th>\n",
              "      <td>negative</td>\n",
              "      <td>@jimmie_vanagon my phone does not run on lates...</td>\n",
              "    </tr>\n",
              "    <tr>\n",
              "      <th>4</th>\n",
              "      <td>positive</td>\n",
              "      <td>Not sure how to start your publication on iOS?...</td>\n",
              "    </tr>\n",
              "    <tr>\n",
              "      <th>5</th>\n",
              "      <td>neutral</td>\n",
              "      <td>Two Dollar Tuesday is here with Forklift 2, Qu...</td>\n",
              "    </tr>\n",
              "    <tr>\n",
              "      <th>...</th>\n",
              "      <td>...</td>\n",
              "      <td>...</td>\n",
              "    </tr>\n",
              "    <tr>\n",
              "      <th>5963</th>\n",
              "      <td>positive</td>\n",
              "      <td>Ok ed let's do this, Zlatan, greizmann and Lap...</td>\n",
              "    </tr>\n",
              "    <tr>\n",
              "      <th>5964</th>\n",
              "      <td>neutral</td>\n",
              "      <td>Goal level: Zlatan  90k by Friday? = Posting e...</td>\n",
              "    </tr>\n",
              "    <tr>\n",
              "      <th>5965</th>\n",
              "      <td>neutral</td>\n",
              "      <td>@YouAreMyArsenal Wouldn't surprise me if we en...</td>\n",
              "    </tr>\n",
              "    <tr>\n",
              "      <th>5966</th>\n",
              "      <td>neutral</td>\n",
              "      <td>Rib injury for Zlatan against Russia is a big ...</td>\n",
              "    </tr>\n",
              "    <tr>\n",
              "      <th>5967</th>\n",
              "      <td>neutral</td>\n",
              "      <td>Noooooo! I was hoping to see Zlatan being Zlat...</td>\n",
              "    </tr>\n",
              "  </tbody>\n",
              "</table>\n",
              "<p>5422 rows × 2 columns</p>\n",
              "</div>\n",
              "      <button class=\"colab-df-convert\" onclick=\"convertToInteractive('df-d74176f9-7e4f-4b82-8db9-895253436535')\"\n",
              "              title=\"Convert this dataframe to an interactive table.\"\n",
              "              style=\"display:none;\">\n",
              "        \n",
              "  <svg xmlns=\"http://www.w3.org/2000/svg\" height=\"24px\"viewBox=\"0 0 24 24\"\n",
              "       width=\"24px\">\n",
              "    <path d=\"M0 0h24v24H0V0z\" fill=\"none\"/>\n",
              "    <path d=\"M18.56 5.44l.94 2.06.94-2.06 2.06-.94-2.06-.94-.94-2.06-.94 2.06-2.06.94zm-11 1L8.5 8.5l.94-2.06 2.06-.94-2.06-.94L8.5 2.5l-.94 2.06-2.06.94zm10 10l.94 2.06.94-2.06 2.06-.94-2.06-.94-.94-2.06-.94 2.06-2.06.94z\"/><path d=\"M17.41 7.96l-1.37-1.37c-.4-.4-.92-.59-1.43-.59-.52 0-1.04.2-1.43.59L10.3 9.45l-7.72 7.72c-.78.78-.78 2.05 0 2.83L4 21.41c.39.39.9.59 1.41.59.51 0 1.02-.2 1.41-.59l7.78-7.78 2.81-2.81c.8-.78.8-2.07 0-2.86zM5.41 20L4 18.59l7.72-7.72 1.47 1.35L5.41 20z\"/>\n",
              "  </svg>\n",
              "      </button>\n",
              "      \n",
              "  <style>\n",
              "    .colab-df-container {\n",
              "      display:flex;\n",
              "      flex-wrap:wrap;\n",
              "      gap: 12px;\n",
              "    }\n",
              "\n",
              "    .colab-df-convert {\n",
              "      background-color: #E8F0FE;\n",
              "      border: none;\n",
              "      border-radius: 50%;\n",
              "      cursor: pointer;\n",
              "      display: none;\n",
              "      fill: #1967D2;\n",
              "      height: 32px;\n",
              "      padding: 0 0 0 0;\n",
              "      width: 32px;\n",
              "    }\n",
              "\n",
              "    .colab-df-convert:hover {\n",
              "      background-color: #E2EBFA;\n",
              "      box-shadow: 0px 1px 2px rgba(60, 64, 67, 0.3), 0px 1px 3px 1px rgba(60, 64, 67, 0.15);\n",
              "      fill: #174EA6;\n",
              "    }\n",
              "\n",
              "    [theme=dark] .colab-df-convert {\n",
              "      background-color: #3B4455;\n",
              "      fill: #D2E3FC;\n",
              "    }\n",
              "\n",
              "    [theme=dark] .colab-df-convert:hover {\n",
              "      background-color: #434B5C;\n",
              "      box-shadow: 0px 1px 3px 1px rgba(0, 0, 0, 0.15);\n",
              "      filter: drop-shadow(0px 1px 2px rgba(0, 0, 0, 0.3));\n",
              "      fill: #FFFFFF;\n",
              "    }\n",
              "  </style>\n",
              "\n",
              "      <script>\n",
              "        const buttonEl =\n",
              "          document.querySelector('#df-d74176f9-7e4f-4b82-8db9-895253436535 button.colab-df-convert');\n",
              "        buttonEl.style.display =\n",
              "          google.colab.kernel.accessAllowed ? 'block' : 'none';\n",
              "\n",
              "        async function convertToInteractive(key) {\n",
              "          const element = document.querySelector('#df-d74176f9-7e4f-4b82-8db9-895253436535');\n",
              "          const dataTable =\n",
              "            await google.colab.kernel.invokeFunction('convertToInteractive',\n",
              "                                                     [key], {});\n",
              "          if (!dataTable) return;\n",
              "\n",
              "          const docLinkHtml = 'Like what you see? Visit the ' +\n",
              "            '<a target=\"_blank\" href=https://colab.research.google.com/notebooks/data_table.ipynb>data table notebook</a>'\n",
              "            + ' to learn more about interactive tables.';\n",
              "          element.innerHTML = '';\n",
              "          dataTable['output_type'] = 'display_data';\n",
              "          await google.colab.output.renderOutput(dataTable, element);\n",
              "          const docLink = document.createElement('div');\n",
              "          docLink.innerHTML = docLinkHtml;\n",
              "          element.appendChild(docLink);\n",
              "        }\n",
              "      </script>\n",
              "    </div>\n",
              "  </div>\n",
              "  "
            ]
          },
          "metadata": {},
          "execution_count": 7
        }
      ]
    },
    {
      "cell_type": "code",
      "source": [
        "test_df     # Checking testing data manually"
      ],
      "metadata": {
        "colab": {
          "base_uri": "https://localhost:8080/",
          "height": 424
        },
        "id": "Tb4gbGHarbxE",
        "outputId": "41d161fa-5d69-4b8e-e2cd-5b8f64ec3e5f"
      },
      "execution_count": 8,
      "outputs": [
        {
          "output_type": "execute_result",
          "data": {
            "text/plain": [
              "                Id                                           Category\n",
              "0     6.289494e+17  dear @Microsoft the newOoffice for Mac is grea...\n",
              "1     6.289766e+17  @Microsoft how about you make a system that do...\n",
              "2     6.290232e+17                                      Not Available\n",
              "3     6.291792e+17                                      Not Available\n",
              "4     6.291863e+17  If I make a game as a #windows10 Universal App...\n",
              "...            ...                                                ...\n",
              "9963           NaN                                                NaN\n",
              "9964           NaN                                                NaN\n",
              "9965           NaN                                                NaN\n",
              "9966           NaN                                                NaN\n",
              "9967           NaN                                                NaN\n",
              "\n",
              "[9968 rows x 2 columns]"
            ],
            "text/html": [
              "\n",
              "  <div id=\"df-52119e30-ad7a-413f-9d73-30b4c78c2d79\">\n",
              "    <div class=\"colab-df-container\">\n",
              "      <div>\n",
              "<style scoped>\n",
              "    .dataframe tbody tr th:only-of-type {\n",
              "        vertical-align: middle;\n",
              "    }\n",
              "\n",
              "    .dataframe tbody tr th {\n",
              "        vertical-align: top;\n",
              "    }\n",
              "\n",
              "    .dataframe thead th {\n",
              "        text-align: right;\n",
              "    }\n",
              "</style>\n",
              "<table border=\"1\" class=\"dataframe\">\n",
              "  <thead>\n",
              "    <tr style=\"text-align: right;\">\n",
              "      <th></th>\n",
              "      <th>Id</th>\n",
              "      <th>Category</th>\n",
              "    </tr>\n",
              "  </thead>\n",
              "  <tbody>\n",
              "    <tr>\n",
              "      <th>0</th>\n",
              "      <td>6.289494e+17</td>\n",
              "      <td>dear @Microsoft the newOoffice for Mac is grea...</td>\n",
              "    </tr>\n",
              "    <tr>\n",
              "      <th>1</th>\n",
              "      <td>6.289766e+17</td>\n",
              "      <td>@Microsoft how about you make a system that do...</td>\n",
              "    </tr>\n",
              "    <tr>\n",
              "      <th>2</th>\n",
              "      <td>6.290232e+17</td>\n",
              "      <td>Not Available</td>\n",
              "    </tr>\n",
              "    <tr>\n",
              "      <th>3</th>\n",
              "      <td>6.291792e+17</td>\n",
              "      <td>Not Available</td>\n",
              "    </tr>\n",
              "    <tr>\n",
              "      <th>4</th>\n",
              "      <td>6.291863e+17</td>\n",
              "      <td>If I make a game as a #windows10 Universal App...</td>\n",
              "    </tr>\n",
              "    <tr>\n",
              "      <th>...</th>\n",
              "      <td>...</td>\n",
              "      <td>...</td>\n",
              "    </tr>\n",
              "    <tr>\n",
              "      <th>9963</th>\n",
              "      <td>NaN</td>\n",
              "      <td>NaN</td>\n",
              "    </tr>\n",
              "    <tr>\n",
              "      <th>9964</th>\n",
              "      <td>NaN</td>\n",
              "      <td>NaN</td>\n",
              "    </tr>\n",
              "    <tr>\n",
              "      <th>9965</th>\n",
              "      <td>NaN</td>\n",
              "      <td>NaN</td>\n",
              "    </tr>\n",
              "    <tr>\n",
              "      <th>9966</th>\n",
              "      <td>NaN</td>\n",
              "      <td>NaN</td>\n",
              "    </tr>\n",
              "    <tr>\n",
              "      <th>9967</th>\n",
              "      <td>NaN</td>\n",
              "      <td>NaN</td>\n",
              "    </tr>\n",
              "  </tbody>\n",
              "</table>\n",
              "<p>9968 rows × 2 columns</p>\n",
              "</div>\n",
              "      <button class=\"colab-df-convert\" onclick=\"convertToInteractive('df-52119e30-ad7a-413f-9d73-30b4c78c2d79')\"\n",
              "              title=\"Convert this dataframe to an interactive table.\"\n",
              "              style=\"display:none;\">\n",
              "        \n",
              "  <svg xmlns=\"http://www.w3.org/2000/svg\" height=\"24px\"viewBox=\"0 0 24 24\"\n",
              "       width=\"24px\">\n",
              "    <path d=\"M0 0h24v24H0V0z\" fill=\"none\"/>\n",
              "    <path d=\"M18.56 5.44l.94 2.06.94-2.06 2.06-.94-2.06-.94-.94-2.06-.94 2.06-2.06.94zm-11 1L8.5 8.5l.94-2.06 2.06-.94-2.06-.94L8.5 2.5l-.94 2.06-2.06.94zm10 10l.94 2.06.94-2.06 2.06-.94-2.06-.94-.94-2.06-.94 2.06-2.06.94z\"/><path d=\"M17.41 7.96l-1.37-1.37c-.4-.4-.92-.59-1.43-.59-.52 0-1.04.2-1.43.59L10.3 9.45l-7.72 7.72c-.78.78-.78 2.05 0 2.83L4 21.41c.39.39.9.59 1.41.59.51 0 1.02-.2 1.41-.59l7.78-7.78 2.81-2.81c.8-.78.8-2.07 0-2.86zM5.41 20L4 18.59l7.72-7.72 1.47 1.35L5.41 20z\"/>\n",
              "  </svg>\n",
              "      </button>\n",
              "      \n",
              "  <style>\n",
              "    .colab-df-container {\n",
              "      display:flex;\n",
              "      flex-wrap:wrap;\n",
              "      gap: 12px;\n",
              "    }\n",
              "\n",
              "    .colab-df-convert {\n",
              "      background-color: #E8F0FE;\n",
              "      border: none;\n",
              "      border-radius: 50%;\n",
              "      cursor: pointer;\n",
              "      display: none;\n",
              "      fill: #1967D2;\n",
              "      height: 32px;\n",
              "      padding: 0 0 0 0;\n",
              "      width: 32px;\n",
              "    }\n",
              "\n",
              "    .colab-df-convert:hover {\n",
              "      background-color: #E2EBFA;\n",
              "      box-shadow: 0px 1px 2px rgba(60, 64, 67, 0.3), 0px 1px 3px 1px rgba(60, 64, 67, 0.15);\n",
              "      fill: #174EA6;\n",
              "    }\n",
              "\n",
              "    [theme=dark] .colab-df-convert {\n",
              "      background-color: #3B4455;\n",
              "      fill: #D2E3FC;\n",
              "    }\n",
              "\n",
              "    [theme=dark] .colab-df-convert:hover {\n",
              "      background-color: #434B5C;\n",
              "      box-shadow: 0px 1px 3px 1px rgba(0, 0, 0, 0.15);\n",
              "      filter: drop-shadow(0px 1px 2px rgba(0, 0, 0, 0.3));\n",
              "      fill: #FFFFFF;\n",
              "    }\n",
              "  </style>\n",
              "\n",
              "      <script>\n",
              "        const buttonEl =\n",
              "          document.querySelector('#df-52119e30-ad7a-413f-9d73-30b4c78c2d79 button.colab-df-convert');\n",
              "        buttonEl.style.display =\n",
              "          google.colab.kernel.accessAllowed ? 'block' : 'none';\n",
              "\n",
              "        async function convertToInteractive(key) {\n",
              "          const element = document.querySelector('#df-52119e30-ad7a-413f-9d73-30b4c78c2d79');\n",
              "          const dataTable =\n",
              "            await google.colab.kernel.invokeFunction('convertToInteractive',\n",
              "                                                     [key], {});\n",
              "          if (!dataTable) return;\n",
              "\n",
              "          const docLinkHtml = 'Like what you see? Visit the ' +\n",
              "            '<a target=\"_blank\" href=https://colab.research.google.com/notebooks/data_table.ipynb>data table notebook</a>'\n",
              "            + ' to learn more about interactive tables.';\n",
              "          element.innerHTML = '';\n",
              "          dataTable['output_type'] = 'display_data';\n",
              "          await google.colab.output.renderOutput(dataTable, element);\n",
              "          const docLink = document.createElement('div');\n",
              "          docLink.innerHTML = docLinkHtml;\n",
              "          element.appendChild(docLink);\n",
              "        }\n",
              "      </script>\n",
              "    </div>\n",
              "  </div>\n",
              "  "
            ]
          },
          "metadata": {},
          "execution_count": 8
        }
      ]
    },
    {
      "cell_type": "code",
      "source": [
        "test_df=test_df.rename(columns={\"Category\":\"Tweets\"})   # Renaming 'Category' as 'Tweeets'"
      ],
      "metadata": {
        "id": "rrmcYCsmrqWE"
      },
      "execution_count": 9,
      "outputs": []
    },
    {
      "cell_type": "code",
      "source": [
        "# Cleaning test data\n",
        "test_df=test_df.drop(columns=[\"Id\"])                  # Id irrelevant for testing model\n",
        "test_df=test_df.dropna()                              # Dropping null values\n",
        "test_df=test_df[test_df['Tweets']!='Not Available']   # Removing 'Not Available' tweets\n",
        "test_df                                               # Printing modified test data"
      ],
      "metadata": {
        "colab": {
          "base_uri": "https://localhost:8080/",
          "height": 424
        },
        "id": "V_Xdl_uDr7QN",
        "outputId": "05f1a111-896d-40fd-8ff1-57b52e327716"
      },
      "execution_count": 10,
      "outputs": [
        {
          "output_type": "execute_result",
          "data": {
            "text/plain": [
              "                                                 Tweets\n",
              "0     dear @Microsoft the newOoffice for Mac is grea...\n",
              "1     @Microsoft how about you make a system that do...\n",
              "4     If I make a game as a #windows10 Universal App...\n",
              "5     Microsoft, I may not prefer your gaming branch...\n",
              "6     @MikeWolf1980 @Microsoft I will be downgrading...\n",
              "...                                                 ...\n",
              "3994  Anybody with a Steak &amp; Shake or IHOP move ...\n",
              "3995  I am assembling an epic Pancake Posse for an I...\n",
              "3996       do you work at Ihop tomorrow @carlysunshine_\n",
              "3997  23 Aug 00;30 #771NAS Rescue193 returned from T...\n",
              "3999  IOS 9 App Transport Security. Mm need to check...\n",
              "\n",
              "[3640 rows x 1 columns]"
            ],
            "text/html": [
              "\n",
              "  <div id=\"df-a0a52259-4e06-4922-a029-75be38a0d49e\">\n",
              "    <div class=\"colab-df-container\">\n",
              "      <div>\n",
              "<style scoped>\n",
              "    .dataframe tbody tr th:only-of-type {\n",
              "        vertical-align: middle;\n",
              "    }\n",
              "\n",
              "    .dataframe tbody tr th {\n",
              "        vertical-align: top;\n",
              "    }\n",
              "\n",
              "    .dataframe thead th {\n",
              "        text-align: right;\n",
              "    }\n",
              "</style>\n",
              "<table border=\"1\" class=\"dataframe\">\n",
              "  <thead>\n",
              "    <tr style=\"text-align: right;\">\n",
              "      <th></th>\n",
              "      <th>Tweets</th>\n",
              "    </tr>\n",
              "  </thead>\n",
              "  <tbody>\n",
              "    <tr>\n",
              "      <th>0</th>\n",
              "      <td>dear @Microsoft the newOoffice for Mac is grea...</td>\n",
              "    </tr>\n",
              "    <tr>\n",
              "      <th>1</th>\n",
              "      <td>@Microsoft how about you make a system that do...</td>\n",
              "    </tr>\n",
              "    <tr>\n",
              "      <th>4</th>\n",
              "      <td>If I make a game as a #windows10 Universal App...</td>\n",
              "    </tr>\n",
              "    <tr>\n",
              "      <th>5</th>\n",
              "      <td>Microsoft, I may not prefer your gaming branch...</td>\n",
              "    </tr>\n",
              "    <tr>\n",
              "      <th>6</th>\n",
              "      <td>@MikeWolf1980 @Microsoft I will be downgrading...</td>\n",
              "    </tr>\n",
              "    <tr>\n",
              "      <th>...</th>\n",
              "      <td>...</td>\n",
              "    </tr>\n",
              "    <tr>\n",
              "      <th>3994</th>\n",
              "      <td>Anybody with a Steak &amp;amp; Shake or IHOP move ...</td>\n",
              "    </tr>\n",
              "    <tr>\n",
              "      <th>3995</th>\n",
              "      <td>I am assembling an epic Pancake Posse for an I...</td>\n",
              "    </tr>\n",
              "    <tr>\n",
              "      <th>3996</th>\n",
              "      <td>do you work at Ihop tomorrow @carlysunshine_</td>\n",
              "    </tr>\n",
              "    <tr>\n",
              "      <th>3997</th>\n",
              "      <td>23 Aug 00;30 #771NAS Rescue193 returned from T...</td>\n",
              "    </tr>\n",
              "    <tr>\n",
              "      <th>3999</th>\n",
              "      <td>IOS 9 App Transport Security. Mm need to check...</td>\n",
              "    </tr>\n",
              "  </tbody>\n",
              "</table>\n",
              "<p>3640 rows × 1 columns</p>\n",
              "</div>\n",
              "      <button class=\"colab-df-convert\" onclick=\"convertToInteractive('df-a0a52259-4e06-4922-a029-75be38a0d49e')\"\n",
              "              title=\"Convert this dataframe to an interactive table.\"\n",
              "              style=\"display:none;\">\n",
              "        \n",
              "  <svg xmlns=\"http://www.w3.org/2000/svg\" height=\"24px\"viewBox=\"0 0 24 24\"\n",
              "       width=\"24px\">\n",
              "    <path d=\"M0 0h24v24H0V0z\" fill=\"none\"/>\n",
              "    <path d=\"M18.56 5.44l.94 2.06.94-2.06 2.06-.94-2.06-.94-.94-2.06-.94 2.06-2.06.94zm-11 1L8.5 8.5l.94-2.06 2.06-.94-2.06-.94L8.5 2.5l-.94 2.06-2.06.94zm10 10l.94 2.06.94-2.06 2.06-.94-2.06-.94-.94-2.06-.94 2.06-2.06.94z\"/><path d=\"M17.41 7.96l-1.37-1.37c-.4-.4-.92-.59-1.43-.59-.52 0-1.04.2-1.43.59L10.3 9.45l-7.72 7.72c-.78.78-.78 2.05 0 2.83L4 21.41c.39.39.9.59 1.41.59.51 0 1.02-.2 1.41-.59l7.78-7.78 2.81-2.81c.8-.78.8-2.07 0-2.86zM5.41 20L4 18.59l7.72-7.72 1.47 1.35L5.41 20z\"/>\n",
              "  </svg>\n",
              "      </button>\n",
              "      \n",
              "  <style>\n",
              "    .colab-df-container {\n",
              "      display:flex;\n",
              "      flex-wrap:wrap;\n",
              "      gap: 12px;\n",
              "    }\n",
              "\n",
              "    .colab-df-convert {\n",
              "      background-color: #E8F0FE;\n",
              "      border: none;\n",
              "      border-radius: 50%;\n",
              "      cursor: pointer;\n",
              "      display: none;\n",
              "      fill: #1967D2;\n",
              "      height: 32px;\n",
              "      padding: 0 0 0 0;\n",
              "      width: 32px;\n",
              "    }\n",
              "\n",
              "    .colab-df-convert:hover {\n",
              "      background-color: #E2EBFA;\n",
              "      box-shadow: 0px 1px 2px rgba(60, 64, 67, 0.3), 0px 1px 3px 1px rgba(60, 64, 67, 0.15);\n",
              "      fill: #174EA6;\n",
              "    }\n",
              "\n",
              "    [theme=dark] .colab-df-convert {\n",
              "      background-color: #3B4455;\n",
              "      fill: #D2E3FC;\n",
              "    }\n",
              "\n",
              "    [theme=dark] .colab-df-convert:hover {\n",
              "      background-color: #434B5C;\n",
              "      box-shadow: 0px 1px 3px 1px rgba(0, 0, 0, 0.15);\n",
              "      filter: drop-shadow(0px 1px 2px rgba(0, 0, 0, 0.3));\n",
              "      fill: #FFFFFF;\n",
              "    }\n",
              "  </style>\n",
              "\n",
              "      <script>\n",
              "        const buttonEl =\n",
              "          document.querySelector('#df-a0a52259-4e06-4922-a029-75be38a0d49e button.colab-df-convert');\n",
              "        buttonEl.style.display =\n",
              "          google.colab.kernel.accessAllowed ? 'block' : 'none';\n",
              "\n",
              "        async function convertToInteractive(key) {\n",
              "          const element = document.querySelector('#df-a0a52259-4e06-4922-a029-75be38a0d49e');\n",
              "          const dataTable =\n",
              "            await google.colab.kernel.invokeFunction('convertToInteractive',\n",
              "                                                     [key], {});\n",
              "          if (!dataTable) return;\n",
              "\n",
              "          const docLinkHtml = 'Like what you see? Visit the ' +\n",
              "            '<a target=\"_blank\" href=https://colab.research.google.com/notebooks/data_table.ipynb>data table notebook</a>'\n",
              "            + ' to learn more about interactive tables.';\n",
              "          element.innerHTML = '';\n",
              "          dataTable['output_type'] = 'display_data';\n",
              "          await google.colab.output.renderOutput(dataTable, element);\n",
              "          const docLink = document.createElement('div');\n",
              "          docLink.innerHTML = docLinkHtml;\n",
              "          element.appendChild(docLink);\n",
              "        }\n",
              "      </script>\n",
              "    </div>\n",
              "  </div>\n",
              "  "
            ]
          },
          "metadata": {},
          "execution_count": 10
        }
      ]
    },
    {
      "cell_type": "markdown",
      "source": [
        "###Class imbalance\n",
        "Here we need to make sure that each category has equal number of instances so that model is trained well (Classification task)"
      ],
      "metadata": {
        "id": "u2LrGQ4zsczH"
      }
    },
    {
      "cell_type": "code",
      "source": [
        "train_df['Category'].value_counts()   # Counting to check for class imbalance"
      ],
      "metadata": {
        "colab": {
          "base_uri": "https://localhost:8080/"
        },
        "id": "9H_VSpHIscTm",
        "outputId": "4b7fa22e-c907-4d1f-e438-52df67c1f0cd"
      },
      "execution_count": 11,
      "outputs": [
        {
          "output_type": "execute_result",
          "data": {
            "text/plain": [
              "positive    2599\n",
              "neutral     1953\n",
              "negative     869\n",
              "Tweet          1\n",
              "Name: Category, dtype: int64"
            ]
          },
          "metadata": {},
          "execution_count": 11
        }
      ]
    },
    {
      "cell_type": "markdown",
      "source": [
        "Solutions to fix imbalance\n",
        "1) Oversampling\n",
        "2) Undersampling\n",
        "3) Hybrid approach\n",
        "4) Augmentation"
      ],
      "metadata": {
        "id": "wU491EhRs-kX"
      }
    },
    {
      "cell_type": "code",
      "source": [
        "train_df[train_df['Category']=='negative']"
      ],
      "metadata": {
        "colab": {
          "base_uri": "https://localhost:8080/",
          "height": 424
        },
        "id": "PATcgRuIeHwP",
        "outputId": "c2384af9-e150-46cf-d90a-34bbafda4eec"
      },
      "execution_count": null,
      "outputs": [
        {
          "output_type": "execute_result",
          "data": {
            "text/plain": [
              "      Category                                              Tweet\n",
              "3     negative  @jimmie_vanagon my phone does not run on lates...\n",
              "29    negative  @_tomcc @bartwerf please stop walking and work...\n",
              "36    negative  @DeltaAssist yes, I asked an attendant to prin...\n",
              "91    negative  ok inbox on iOS has a pretty animation for the...\n",
              "100   negative                Lost my iPad for the 2nd time today\n",
              "...        ...                                                ...\n",
              "5935  negative  Watching a replay of the PSG / Lille match fro...\n",
              "5938  negative  @ACMilanNorway anyway, telling Zlatan he'll be...\n",
              "5949  negative  The top 4 strikers in the world are not for sa...\n",
              "5960  negative  Today United should have done better, the refe...\n",
              "5961  negative  If there is a silver lining this shows LVG if ...\n",
              "\n",
              "[869 rows x 2 columns]"
            ],
            "text/html": [
              "\n",
              "  <div id=\"df-2f513fb1-0ced-47d5-ba8e-a91ff2fcb2ed\">\n",
              "    <div class=\"colab-df-container\">\n",
              "      <div>\n",
              "<style scoped>\n",
              "    .dataframe tbody tr th:only-of-type {\n",
              "        vertical-align: middle;\n",
              "    }\n",
              "\n",
              "    .dataframe tbody tr th {\n",
              "        vertical-align: top;\n",
              "    }\n",
              "\n",
              "    .dataframe thead th {\n",
              "        text-align: right;\n",
              "    }\n",
              "</style>\n",
              "<table border=\"1\" class=\"dataframe\">\n",
              "  <thead>\n",
              "    <tr style=\"text-align: right;\">\n",
              "      <th></th>\n",
              "      <th>Category</th>\n",
              "      <th>Tweet</th>\n",
              "    </tr>\n",
              "  </thead>\n",
              "  <tbody>\n",
              "    <tr>\n",
              "      <th>3</th>\n",
              "      <td>negative</td>\n",
              "      <td>@jimmie_vanagon my phone does not run on lates...</td>\n",
              "    </tr>\n",
              "    <tr>\n",
              "      <th>29</th>\n",
              "      <td>negative</td>\n",
              "      <td>@_tomcc @bartwerf please stop walking and work...</td>\n",
              "    </tr>\n",
              "    <tr>\n",
              "      <th>36</th>\n",
              "      <td>negative</td>\n",
              "      <td>@DeltaAssist yes, I asked an attendant to prin...</td>\n",
              "    </tr>\n",
              "    <tr>\n",
              "      <th>91</th>\n",
              "      <td>negative</td>\n",
              "      <td>ok inbox on iOS has a pretty animation for the...</td>\n",
              "    </tr>\n",
              "    <tr>\n",
              "      <th>100</th>\n",
              "      <td>negative</td>\n",
              "      <td>Lost my iPad for the 2nd time today</td>\n",
              "    </tr>\n",
              "    <tr>\n",
              "      <th>...</th>\n",
              "      <td>...</td>\n",
              "      <td>...</td>\n",
              "    </tr>\n",
              "    <tr>\n",
              "      <th>5935</th>\n",
              "      <td>negative</td>\n",
              "      <td>Watching a replay of the PSG / Lille match fro...</td>\n",
              "    </tr>\n",
              "    <tr>\n",
              "      <th>5938</th>\n",
              "      <td>negative</td>\n",
              "      <td>@ACMilanNorway anyway, telling Zlatan he'll be...</td>\n",
              "    </tr>\n",
              "    <tr>\n",
              "      <th>5949</th>\n",
              "      <td>negative</td>\n",
              "      <td>The top 4 strikers in the world are not for sa...</td>\n",
              "    </tr>\n",
              "    <tr>\n",
              "      <th>5960</th>\n",
              "      <td>negative</td>\n",
              "      <td>Today United should have done better, the refe...</td>\n",
              "    </tr>\n",
              "    <tr>\n",
              "      <th>5961</th>\n",
              "      <td>negative</td>\n",
              "      <td>If there is a silver lining this shows LVG if ...</td>\n",
              "    </tr>\n",
              "  </tbody>\n",
              "</table>\n",
              "<p>869 rows × 2 columns</p>\n",
              "</div>\n",
              "      <button class=\"colab-df-convert\" onclick=\"convertToInteractive('df-2f513fb1-0ced-47d5-ba8e-a91ff2fcb2ed')\"\n",
              "              title=\"Convert this dataframe to an interactive table.\"\n",
              "              style=\"display:none;\">\n",
              "        \n",
              "  <svg xmlns=\"http://www.w3.org/2000/svg\" height=\"24px\"viewBox=\"0 0 24 24\"\n",
              "       width=\"24px\">\n",
              "    <path d=\"M0 0h24v24H0V0z\" fill=\"none\"/>\n",
              "    <path d=\"M18.56 5.44l.94 2.06.94-2.06 2.06-.94-2.06-.94-.94-2.06-.94 2.06-2.06.94zm-11 1L8.5 8.5l.94-2.06 2.06-.94-2.06-.94L8.5 2.5l-.94 2.06-2.06.94zm10 10l.94 2.06.94-2.06 2.06-.94-2.06-.94-.94-2.06-.94 2.06-2.06.94z\"/><path d=\"M17.41 7.96l-1.37-1.37c-.4-.4-.92-.59-1.43-.59-.52 0-1.04.2-1.43.59L10.3 9.45l-7.72 7.72c-.78.78-.78 2.05 0 2.83L4 21.41c.39.39.9.59 1.41.59.51 0 1.02-.2 1.41-.59l7.78-7.78 2.81-2.81c.8-.78.8-2.07 0-2.86zM5.41 20L4 18.59l7.72-7.72 1.47 1.35L5.41 20z\"/>\n",
              "  </svg>\n",
              "      </button>\n",
              "      \n",
              "  <style>\n",
              "    .colab-df-container {\n",
              "      display:flex;\n",
              "      flex-wrap:wrap;\n",
              "      gap: 12px;\n",
              "    }\n",
              "\n",
              "    .colab-df-convert {\n",
              "      background-color: #E8F0FE;\n",
              "      border: none;\n",
              "      border-radius: 50%;\n",
              "      cursor: pointer;\n",
              "      display: none;\n",
              "      fill: #1967D2;\n",
              "      height: 32px;\n",
              "      padding: 0 0 0 0;\n",
              "      width: 32px;\n",
              "    }\n",
              "\n",
              "    .colab-df-convert:hover {\n",
              "      background-color: #E2EBFA;\n",
              "      box-shadow: 0px 1px 2px rgba(60, 64, 67, 0.3), 0px 1px 3px 1px rgba(60, 64, 67, 0.15);\n",
              "      fill: #174EA6;\n",
              "    }\n",
              "\n",
              "    [theme=dark] .colab-df-convert {\n",
              "      background-color: #3B4455;\n",
              "      fill: #D2E3FC;\n",
              "    }\n",
              "\n",
              "    [theme=dark] .colab-df-convert:hover {\n",
              "      background-color: #434B5C;\n",
              "      box-shadow: 0px 1px 3px 1px rgba(0, 0, 0, 0.15);\n",
              "      filter: drop-shadow(0px 1px 2px rgba(0, 0, 0, 0.3));\n",
              "      fill: #FFFFFF;\n",
              "    }\n",
              "  </style>\n",
              "\n",
              "      <script>\n",
              "        const buttonEl =\n",
              "          document.querySelector('#df-2f513fb1-0ced-47d5-ba8e-a91ff2fcb2ed button.colab-df-convert');\n",
              "        buttonEl.style.display =\n",
              "          google.colab.kernel.accessAllowed ? 'block' : 'none';\n",
              "\n",
              "        async function convertToInteractive(key) {\n",
              "          const element = document.querySelector('#df-2f513fb1-0ced-47d5-ba8e-a91ff2fcb2ed');\n",
              "          const dataTable =\n",
              "            await google.colab.kernel.invokeFunction('convertToInteractive',\n",
              "                                                     [key], {});\n",
              "          if (!dataTable) return;\n",
              "\n",
              "          const docLinkHtml = 'Like what you see? Visit the ' +\n",
              "            '<a target=\"_blank\" href=https://colab.research.google.com/notebooks/data_table.ipynb>data table notebook</a>'\n",
              "            + ' to learn more about interactive tables.';\n",
              "          element.innerHTML = '';\n",
              "          dataTable['output_type'] = 'display_data';\n",
              "          await google.colab.output.renderOutput(dataTable, element);\n",
              "          const docLink = document.createElement('div');\n",
              "          docLink.innerHTML = docLinkHtml;\n",
              "          element.appendChild(docLink);\n",
              "        }\n",
              "      </script>\n",
              "    </div>\n",
              "  </div>\n",
              "  "
            ]
          },
          "metadata": {},
          "execution_count": 25
        }
      ]
    },
    {
      "cell_type": "code",
      "source": [
        "train_df['Tweet'].loc[3]"
      ],
      "metadata": {
        "colab": {
          "base_uri": "https://localhost:8080/",
          "height": 36
        },
        "id": "tQ95tlTBefYY",
        "outputId": "ff578319-5ea7-4635-bd29-1dbb49604d31"
      },
      "execution_count": null,
      "outputs": [
        {
          "output_type": "execute_result",
          "data": {
            "text/plain": [
              "'@jimmie_vanagon my phone does not run on latest IOS which may account for problem the other day .. time it was replaced'"
            ],
            "application/vnd.google.colaboratory.intrinsic+json": {
              "type": "string"
            }
          },
          "metadata": {},
          "execution_count": 26
        }
      ]
    },
    {
      "cell_type": "code",
      "source": [
        "pip install nlpaug      # Installing for text augment"
      ],
      "metadata": {
        "id": "CV6CDgcvFFsc",
        "colab": {
          "base_uri": "https://localhost:8080/"
        },
        "outputId": "23c8f22c-6b21-469f-fdb8-17f8529fdc9f"
      },
      "execution_count": 12,
      "outputs": [
        {
          "output_type": "stream",
          "name": "stdout",
          "text": [
            "Looking in indexes: https://pypi.org/simple, https://us-python.pkg.dev/colab-wheels/public/simple/\n",
            "Collecting nlpaug\n",
            "  Downloading nlpaug-1.1.10-py3-none-any.whl (410 kB)\n",
            "\u001b[K     |████████████████████████████████| 410 kB 14.1 MB/s \n",
            "\u001b[?25hRequirement already satisfied: pandas>=1.2.0 in /usr/local/lib/python3.7/dist-packages (from nlpaug) (1.3.5)\n",
            "Requirement already satisfied: numpy>=1.16.2 in /usr/local/lib/python3.7/dist-packages (from nlpaug) (1.21.6)\n",
            "Requirement already satisfied: requests>=2.22.0 in /usr/local/lib/python3.7/dist-packages (from nlpaug) (2.23.0)\n",
            "Requirement already satisfied: pytz>=2017.3 in /usr/local/lib/python3.7/dist-packages (from pandas>=1.2.0->nlpaug) (2022.1)\n",
            "Requirement already satisfied: python-dateutil>=2.7.3 in /usr/local/lib/python3.7/dist-packages (from pandas>=1.2.0->nlpaug) (2.8.2)\n",
            "Requirement already satisfied: six>=1.5 in /usr/local/lib/python3.7/dist-packages (from python-dateutil>=2.7.3->pandas>=1.2.0->nlpaug) (1.15.0)\n",
            "Requirement already satisfied: certifi>=2017.4.17 in /usr/local/lib/python3.7/dist-packages (from requests>=2.22.0->nlpaug) (2022.5.18.1)\n",
            "Requirement already satisfied: chardet<4,>=3.0.2 in /usr/local/lib/python3.7/dist-packages (from requests>=2.22.0->nlpaug) (3.0.4)\n",
            "Requirement already satisfied: idna<3,>=2.5 in /usr/local/lib/python3.7/dist-packages (from requests>=2.22.0->nlpaug) (2.10)\n",
            "Requirement already satisfied: urllib3!=1.25.0,!=1.25.1,<1.26,>=1.21.1 in /usr/local/lib/python3.7/dist-packages (from requests>=2.22.0->nlpaug) (1.24.3)\n",
            "Installing collected packages: nlpaug\n",
            "Successfully installed nlpaug-1.1.10\n"
          ]
        }
      ]
    },
    {
      "cell_type": "code",
      "source": [
        "nltk.download('averaged_perceptron_tagger')"
      ],
      "metadata": {
        "colab": {
          "base_uri": "https://localhost:8080/"
        },
        "id": "EqOV6lYYOBzr",
        "outputId": "acadb112-e475-484d-cf06-eea2ec05ca32"
      },
      "execution_count": 13,
      "outputs": [
        {
          "output_type": "stream",
          "name": "stdout",
          "text": [
            "[nltk_data] Downloading package averaged_perceptron_tagger to\n",
            "[nltk_data]     /root/nltk_data...\n",
            "[nltk_data]   Unzipping taggers/averaged_perceptron_tagger.zip.\n"
          ]
        },
        {
          "output_type": "execute_result",
          "data": {
            "text/plain": [
              "True"
            ]
          },
          "metadata": {},
          "execution_count": 13
        }
      ]
    },
    {
      "cell_type": "code",
      "source": [
        "nltk.download('wordnet')    # Used for synonyms"
      ],
      "metadata": {
        "colab": {
          "base_uri": "https://localhost:8080/"
        },
        "id": "KKYN4NnnOHdY",
        "outputId": "e9c3abf3-c827-435e-fcdb-1ed1f3416049"
      },
      "execution_count": 14,
      "outputs": [
        {
          "output_type": "stream",
          "name": "stdout",
          "text": [
            "[nltk_data] Downloading package wordnet to /root/nltk_data...\n",
            "[nltk_data]   Unzipping corpora/wordnet.zip.\n"
          ]
        },
        {
          "output_type": "execute_result",
          "data": {
            "text/plain": [
              "True"
            ]
          },
          "metadata": {},
          "execution_count": 14
        }
      ]
    },
    {
      "cell_type": "code",
      "source": [
        "import nlpaug\n",
        "import nlpaug.augmenter.word as naw   # Augment words"
      ],
      "metadata": {
        "id": "bO1RGn4RKmCk"
      },
      "execution_count": 15,
      "outputs": []
    },
    {
      "cell_type": "code",
      "source": [
        "X_train, X_test, y_train, y_test = train_test_split(train_df['Tweet'],train_df['Category'])   # Data split into lists to easily perform operation "
      ],
      "metadata": {
        "id": "m5JsafHChu9o"
      },
      "execution_count": 16,
      "outputs": []
    },
    {
      "cell_type": "code",
      "source": [
        "aug=naw.SynonymAug(aug_src='wordnet',aug_max=3)     # Synonyms for words are used to make different sentences, here max maximum synonyms for a word used are 3, wordent is used to accecc synonyms"
      ],
      "metadata": {
        "id": "PACeGIt2irRt"
      },
      "execution_count": 17,
      "outputs": []
    },
    {
      "cell_type": "code",
      "source": [
        "augmented_sentences=[]                              # List to save augmented sentences\n",
        "augmented_sentences_labels=[]                       # List to save category\n",
        "for i in X_train.index:                             \n",
        "  if y_train[i]=='negative':                        # Loop will only work for negative tweets\n",
        "    temps=aug.augment(X_train[i],n=2)               # Maximum 2 augmented sentences will be formed\n",
        "    for sent in temps:\n",
        "      augmented_sentences.append(sent)              # Sentences saved in augmented sentence list\n",
        "      augmented_sentences_labels.append('negative') # label saved"
      ],
      "metadata": {
        "id": "OLLGttZyi7UG"
      },
      "execution_count": 18,
      "outputs": []
    },
    {
      "cell_type": "code",
      "source": [
        "X_train=X_train.append(pd.Series(augmented_sentences),ignore_index=True)        # Adding the list of augmented sentences to  X-train\n",
        "y_train=y_train.append(pd.Series(augmented_sentences_labels),ignore_index=True) # Adding the category to y_train"
      ],
      "metadata": {
        "id": "ckpDM1jojtmN"
      },
      "execution_count": 19,
      "outputs": []
    },
    {
      "cell_type": "code",
      "source": [
        "df=pd.DataFrame(list(zip(y_train,X_train)),columns = ['Category','Tweet'])        # Changing the lists to datarame"
      ],
      "metadata": {
        "id": "oe5Ee3X8ld_6"
      },
      "execution_count": 20,
      "outputs": []
    },
    {
      "cell_type": "code",
      "source": [
        "df1=pd.DataFrame(list(zip(y_test,X_test)),columns = ['Category','Tweet'])         # Changing list to dataframe"
      ],
      "metadata": {
        "id": "NHdFBkFBmRuL"
      },
      "execution_count": 21,
      "outputs": []
    },
    {
      "cell_type": "code",
      "source": [
        "tdf=df.append(df1,ignore_index=True)                                              # Appending the two list to get the data together in 1 datafrane"
      ],
      "metadata": {
        "id": "X5KQX8WHmf45"
      },
      "execution_count": 22,
      "outputs": []
    },
    {
      "cell_type": "code",
      "source": [
        "tdf['Category'].value_counts()                                                    # Checking for class imbalance"
      ],
      "metadata": {
        "colab": {
          "base_uri": "https://localhost:8080/"
        },
        "id": "9P066Dvll5ke",
        "outputId": "d2a1f5ee-fa7d-44d1-9329-118f728cc8bb"
      },
      "execution_count": 23,
      "outputs": [
        {
          "output_type": "execute_result",
          "data": {
            "text/plain": [
              "positive    2599\n",
              "negative    2155\n",
              "neutral     1953\n",
              "Tweet          1\n",
              "Name: Category, dtype: int64"
            ]
          },
          "metadata": {},
          "execution_count": 23
        }
      ]
    },
    {
      "cell_type": "code",
      "source": [
        "X_train, X_test, y_train, y_test = train_test_split(train_df['Tweet'],train_df['Category'])"
      ],
      "metadata": {
        "id": "Lczm1L5GotnG"
      },
      "execution_count": null,
      "outputs": []
    },
    {
      "cell_type": "code",
      "source": [
        "aug=naw.SynonymAug(aug_src='wordnet',aug_max=3)"
      ],
      "metadata": {
        "id": "6PfB424gxaSF"
      },
      "execution_count": null,
      "outputs": []
    },
    {
      "cell_type": "code",
      "source": [
        "augmented_sentences=[]\n",
        "augmented_sentences_labels=[]\n",
        "for i in X_train.index:\n",
        "  if y_train[i]=='neutral':\n",
        "    temps=aug.augment(X_train[i],n=2)\n",
        "    for sent in temps:\n",
        "      augmented_sentences.append(sent)\n",
        "      augmented_sentences_labels.append('neutral')"
      ],
      "metadata": {
        "id": "JicP_Z81xfRI"
      },
      "execution_count": null,
      "outputs": []
    },
    {
      "cell_type": "code",
      "source": [
        "X_train=X_train.append(pd.Series(augmented_sentences),ignore_index=True)\n",
        "y_train=y_train.append(pd.Series(augmented_sentences_labels),ignore_index=True)"
      ],
      "metadata": {
        "id": "CKRF_k_vxmG2"
      },
      "execution_count": null,
      "outputs": []
    },
    {
      "cell_type": "code",
      "source": [
        "df=pd.DataFrame(list(zip(y_train,X_train)),columns = ['Category','Tweet'])"
      ],
      "metadata": {
        "id": "wXS_0IA_xo8W"
      },
      "execution_count": null,
      "outputs": []
    },
    {
      "cell_type": "code",
      "source": [
        "df1=pd.DataFrame(list(zip(y_train,X_train)),columns = ['Category','Tweet'])"
      ],
      "metadata": {
        "id": "C_nFqPHYxrtx"
      },
      "execution_count": null,
      "outputs": []
    },
    {
      "cell_type": "code",
      "source": [
        "tdf1=df.append(df1,ignore_index=True)"
      ],
      "metadata": {
        "id": "fTyyTTquxuMm"
      },
      "execution_count": null,
      "outputs": []
    },
    {
      "cell_type": "code",
      "source": [
        "tdf1['Category'].value_counts()"
      ],
      "metadata": {
        "id": "9_RLXMzTxx6C",
        "outputId": "b63d6482-d802-4927-865e-177e6d4622e7",
        "colab": {
          "base_uri": "https://localhost:8080/"
        }
      },
      "execution_count": null,
      "outputs": [
        {
          "output_type": "execute_result",
          "data": {
            "text/plain": [
              "neutral     8700\n",
              "positive    3922\n",
              "negative    1308\n",
              "Tweet          2\n",
              "Name: Category, dtype: int64"
            ]
          },
          "metadata": {},
          "execution_count": 51
        }
      ]
    },
    {
      "cell_type": "markdown",
      "source": [
        "### Cleaning the data further "
      ],
      "metadata": {
        "id": "yYKeMS0efNYO"
      }
    },
    {
      "cell_type": "code",
      "source": [
        "train_clean_df,test_clean_df=train_test_split(tdf,test_size=0.15)     # Splitting the data into two only possible when not using label, train size = 0.85"
      ],
      "metadata": {
        "id": "YHWt2K5DB1CL"
      },
      "execution_count": 24,
      "outputs": []
    },
    {
      "cell_type": "code",
      "source": [
        "# Using list for further cleaning, pandas can be used too\n",
        "train_set=list(train_clean_df.to_records(index=False))      # Changes df to list and adds to train_set\n",
        "test_set=list(test_clean_df.to_records(index=False))        # Changes df to list and adds to test_set"
      ],
      "metadata": {
        "id": "dJYd0i_GHcOp"
      },
      "execution_count": 26,
      "outputs": []
    },
    {
      "cell_type": "code",
      "source": [
        "def remove_links_mentions(tweet):                           # Function to remove mentions and links \n",
        "  link_re_pattern=\"https?:\\/\\/t.co[\\w]+\"                    # defining pattern for link\n",
        "  mention_re_pattern = \"@\\w+\"                               # Defiining pattern for mention\n",
        "  tweet = re.sub(link_re_pattern, \" \", tweet)               # Using regex to replace link with space\n",
        "  tweet = re.sub(mention_re_pattern,\" \", tweet)             # Using regex to replace mention with space\n",
        "  return tweet.lower()                                      # Returns the tweet in lower case"
      ],
      "metadata": {
        "id": "R4ObKw7TH8wB"
      },
      "execution_count": 27,
      "outputs": []
    }
  ]
}